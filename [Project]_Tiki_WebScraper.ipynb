{
  "nbformat": 4,
  "nbformat_minor": 0,
  "metadata": {
    "colab": {
      "name": "Nguyen 4.4a_[Project]_Tiki_WebScraper",
      "provenance": [],
      "collapsed_sections": [],
      "toc_visible": true
    },
    "kernelspec": {
      "name": "python3",
      "display_name": "Python 3"
    },
    "language_info": {
      "name": "python"
    }
  },
  "cells": [
    {
      "cell_type": "markdown",
      "metadata": {
        "id": "Qi_-66FnZDLV"
      },
      "source": [
        "<img src=\"https://s3.cloud.cmctelecom.vn/tinhte1/2018/03/4267082_CV.jpg\" width=browser_width >"
      ]
    },
    {
      "cell_type": "markdown",
      "metadata": {
        "id": "vUYk0UDdbsFG"
      },
      "source": [
        "# **Tiki Web Scraping with Selenium**\n",
        "\n",
        "\n",
        "**Overview**: Build a web-crawler that take in a Tiki URL and return a dataframe \n",
        "\n",
        "**Due Date**: Before Monday next week.\n",
        "\n",
        "**Requirements** \n",
        "1. Your function should be able to take in an URL and return a pandas dataframe\n",
        "2. The final dataframe should at least contain the following informations: \n",
        "    * Product Name\n",
        "    * Price\n",
        "    * URL of the product image\n",
        "    * URL of that product page\n",
        "\n",
        "Try to follow the guideline below"
      ]
    },
    {
      "cell_type": "markdown",
      "metadata": {
        "id": "y9YQJxiiXiZ-"
      },
      "source": [
        "#Install resources"
      ]
    },
    {
      "cell_type": "code",
      "metadata": {
        "id": "WH7Z6VRFLYm2",
        "colab": {
          "base_uri": "https://localhost:8080/"
        },
        "outputId": "7aaed6d1-5dba-426a-c036-74a3a94871ba"
      },
      "source": [
        "# install selenium and other resources for crawling data\n",
        "!pip install selenium\n",
        "!apt-get update\n",
        "!apt install chromium-chromedriver"
      ],
      "execution_count": null,
      "outputs": [
        {
          "output_type": "stream",
          "name": "stdout",
          "text": [
            "Requirement already satisfied: selenium in /usr/local/lib/python3.7/dist-packages (4.1.0)\n",
            "Requirement already satisfied: trio-websocket~=0.9 in /usr/local/lib/python3.7/dist-packages (from selenium) (0.9.2)\n",
            "Requirement already satisfied: trio~=0.17 in /usr/local/lib/python3.7/dist-packages (from selenium) (0.19.0)\n",
            "Requirement already satisfied: urllib3[secure]~=1.26 in /usr/local/lib/python3.7/dist-packages (from selenium) (1.26.7)\n",
            "Requirement already satisfied: sniffio in /usr/local/lib/python3.7/dist-packages (from trio~=0.17->selenium) (1.2.0)\n",
            "Requirement already satisfied: outcome in /usr/local/lib/python3.7/dist-packages (from trio~=0.17->selenium) (1.1.0)\n",
            "Requirement already satisfied: sortedcontainers in /usr/local/lib/python3.7/dist-packages (from trio~=0.17->selenium) (2.4.0)\n",
            "Requirement already satisfied: attrs>=19.2.0 in /usr/local/lib/python3.7/dist-packages (from trio~=0.17->selenium) (21.2.0)\n",
            "Requirement already satisfied: async-generator>=1.9 in /usr/local/lib/python3.7/dist-packages (from trio~=0.17->selenium) (1.10)\n",
            "Requirement already satisfied: idna in /usr/local/lib/python3.7/dist-packages (from trio~=0.17->selenium) (2.10)\n",
            "Requirement already satisfied: wsproto>=0.14 in /usr/local/lib/python3.7/dist-packages (from trio-websocket~=0.9->selenium) (1.0.0)\n",
            "Requirement already satisfied: certifi in /usr/local/lib/python3.7/dist-packages (from urllib3[secure]~=1.26->selenium) (2021.10.8)\n",
            "Requirement already satisfied: pyOpenSSL>=0.14 in /usr/local/lib/python3.7/dist-packages (from urllib3[secure]~=1.26->selenium) (21.0.0)\n",
            "Requirement already satisfied: cryptography>=1.3.4 in /usr/local/lib/python3.7/dist-packages (from urllib3[secure]~=1.26->selenium) (36.0.0)\n",
            "Requirement already satisfied: cffi>=1.12 in /usr/local/lib/python3.7/dist-packages (from cryptography>=1.3.4->urllib3[secure]~=1.26->selenium) (1.15.0)\n",
            "Requirement already satisfied: pycparser in /usr/local/lib/python3.7/dist-packages (from cffi>=1.12->cryptography>=1.3.4->urllib3[secure]~=1.26->selenium) (2.21)\n",
            "Requirement already satisfied: six>=1.5.2 in /usr/local/lib/python3.7/dist-packages (from pyOpenSSL>=0.14->urllib3[secure]~=1.26->selenium) (1.15.0)\n",
            "Requirement already satisfied: h11<1,>=0.9.0 in /usr/local/lib/python3.7/dist-packages (from wsproto>=0.14->trio-websocket~=0.9->selenium) (0.12.0)\n",
            "Hit:1 https://cloud.r-project.org/bin/linux/ubuntu bionic-cran40/ InRelease\n",
            "Ign:2 https://developer.download.nvidia.com/compute/cuda/repos/ubuntu1804/x86_64  InRelease\n",
            "Ign:3 https://developer.download.nvidia.com/compute/machine-learning/repos/ubuntu1804/x86_64  InRelease\n",
            "Hit:4 https://developer.download.nvidia.com/compute/cuda/repos/ubuntu1804/x86_64  Release\n",
            "Hit:5 https://developer.download.nvidia.com/compute/machine-learning/repos/ubuntu1804/x86_64  Release\n",
            "Hit:6 http://ppa.launchpad.net/c2d4u.team/c2d4u4.0+/ubuntu bionic InRelease\n",
            "Hit:7 http://archive.ubuntu.com/ubuntu bionic InRelease\n",
            "Get:8 http://security.ubuntu.com/ubuntu bionic-security InRelease [88.7 kB]\n",
            "Get:10 http://archive.ubuntu.com/ubuntu bionic-updates InRelease [88.7 kB]\n",
            "Hit:11 http://ppa.launchpad.net/cran/libgit2/ubuntu bionic InRelease\n",
            "Hit:13 http://ppa.launchpad.net/deadsnakes/ppa/ubuntu bionic InRelease\n",
            "Get:14 http://archive.ubuntu.com/ubuntu bionic-backports InRelease [74.6 kB]\n",
            "Hit:15 http://ppa.launchpad.net/graphics-drivers/ppa/ubuntu bionic InRelease\n",
            "Fetched 252 kB in 2s (119 kB/s)\n",
            "Reading package lists... Done\n",
            "Reading package lists... Done\n",
            "Building dependency tree       \n",
            "Reading state information... Done\n",
            "chromium-chromedriver is already the newest version (95.0.4638.69-0ubuntu0.18.04.1).\n",
            "0 upgraded, 0 newly installed, 0 to remove and 62 not upgraded.\n"
          ]
        }
      ]
    },
    {
      "cell_type": "markdown",
      "source": [
        "# Import necessary libraries"
      ],
      "metadata": {
        "id": "qtDi9AvOf_Fv"
      }
    },
    {
      "cell_type": "code",
      "metadata": {
        "id": "VzYAnIcMLDVc"
      },
      "source": [
        "import re\n",
        "import time\n",
        "import pandas as pd\n",
        "\n",
        "from selenium import webdriver\n",
        "from selenium.webdriver.common.by import By\n",
        "from selenium.common.exceptions import NoSuchElementException, InvalidSessionIdException\n"
      ],
      "execution_count": null,
      "outputs": []
    },
    {
      "cell_type": "markdown",
      "metadata": {
        "id": "1PxiWLQ2Xoc9"
      },
      "source": [
        "#Configuration for Driver and links"
      ]
    },
    {
      "cell_type": "code",
      "metadata": {
        "id": "GUk_wQ3SK_Lz"
      },
      "source": [
        "# Urls\n",
        "TIKI = 'https://tiki.vn'\n",
        "MAIN_CATEGORIES = [\n",
        "    {'Name': 'Điện Thoại - Máy Tính Bảng',\n",
        "     'URL': 'https://tiki.vn/dien-thoai-may-tinh-bang/c1789?src=c.1789.hamburger_menu_fly_out_banner'},\n",
        "\n",
        "    {'Name': 'Điện Tử - Điện Lạnh',\n",
        "     'URL': 'https://tiki.vn/tivi-thiet-bi-nghe-nhin/c4221?src=c.4221.hamburger_menu_fly_out_banner'},\n",
        "\n",
        "    {'Name': 'Phụ Kiện - Thiết Bị Số', \n",
        "     'URL': 'https://tiki.vn/thiet-bi-kts-phu-kien-so/c1815?src=c.1815.hamburger_menu_fly_out_banner'},\n",
        "\n",
        "    {'Name': 'Laptop - Thiết bị IT', \n",
        "     'URL': 'https://tiki.vn/laptop-may-vi-tinh-linh-kien/c1846?page=0'}, #'https://tiki.vn/laptop-may-vi-tinh/c1846?src=c.1846.hamburger_menu_fly_out_banner'},\n",
        "\n",
        "    {'Name': 'Máy Ảnh - Quay Phim', \n",
        "     'URL': 'https://tiki.vn/may-anh/c1801?src=c.1801.hamburger_menu_fly_out_banner'},\n",
        "\n",
        "    {'Name': 'Điện Gia Dụng', \n",
        "     'URL': 'https://tiki.vn/dien-gia-dung/c1882?src=c.1882.hamburger_menu_fly_out_banner'},\n",
        "\n",
        "    {'Name': 'Nhà Cửa Đời Sống', \n",
        "     'URL': 'https://tiki.vn/nha-cua-doi-song/c1883?src=c.1883.hamburger_menu_fly_out_banner'},\n",
        "\n",
        "    {'Name': 'Hàng Tiêu Dùng - Thực Phẩm', \n",
        "     'URL': 'https://tiki.vn/bach-hoa-online/c4384?src=c.4384.hamburger_menu_fly_out_banner'},\n",
        "\n",
        "    {'Name': 'Đồ chơi, Mẹ & Bé', \n",
        "     'URL': 'https://tiki.vn/me-va-be/c2549?src=c.2549.hamburger_menu_fly_out_banner'},\n",
        "\n",
        "    {'Name': 'Làm Đẹp - Sức Khỏe', \n",
        "     'URL': 'https://tiki.vn/lam-dep-suc-khoe/c1520?src=c.1520.hamburger_menu_fly_out_banner'},\n",
        "\n",
        "    {'Name': 'Thể Thao - Dã Ngoại', \n",
        "     'URL': 'https://tiki.vn/the-thao/c1975?src=c.1975.hamburger_menu_fly_out_banner'},\n",
        "\n",
        "    {'Name': 'Xe Máy, Ô tô, Xe Đạp', \n",
        "     'URL': 'https://tiki.vn/o-to-xe-may-xe-dap/c8594?src=c.8594.hamburger_menu_fly_out_banner'},\n",
        "\n",
        "    {'Name': 'Hàng quốc tế', \n",
        "     'URL': 'https://tiki.vn/hang-quoc-te/c17166?src=c.17166.hamburger_menu_fly_out_banner'},\n",
        "\n",
        "    {'Name': 'Sách, VPP & Quà Tặng', \n",
        "     'URL': 'https://tiki.vn/nha-sach-tiki/c8322?src=c.8322.hamburger_menu_fly_out_banner'},\n",
        "\n",
        "    {'Name': 'Voucher - Dịch Vụ - Thẻ Cào', \n",
        "     'URL': 'https://tiki.vn/voucher-dich-vu/c11312?src=c.11312.hamburger_menu_fly_out_banner'}\n",
        "]\n",
        "\n",
        "# Global driver to use throughout the script\n",
        "DRIVER = None"
      ],
      "execution_count": null,
      "outputs": []
    },
    {
      "cell_type": "markdown",
      "metadata": {
        "id": "0eN3zAMuXMh3"
      },
      "source": [
        "# 0. Function to Start and Close Driver"
      ]
    },
    {
      "cell_type": "code",
      "metadata": {
        "id": "taSb4oreXL6l"
      },
      "source": [
        "# Wrapper to close driver if its created\n",
        "def close_driver():\n",
        "    global DRIVER\n",
        "    if DRIVER is not None:\n",
        "        DRIVER.close()\n",
        "    DRIVER = None\n",
        "\n",
        "# Function to (re)start driver\n",
        "def start_driver(force_restart=False):\n",
        "    global DRIVER\n",
        "    \n",
        "    if force_restart:\n",
        "        close_driver()\n",
        "    \n",
        "    # Setting up the driver\n",
        "    options = webdriver.ChromeOptions()\n",
        "    options.add_argument('-headless') # we don't want a chrome browser opens, so it will run in the background\n",
        "    options.add_argument('-no-sandbox')\n",
        "    options.add_argument('-disable-dev-shm-usage')\n",
        "\n",
        "    DRIVER = webdriver.Chrome('chromedriver',options=options)"
      ],
      "execution_count": null,
      "outputs": []
    },
    {
      "cell_type": "markdown",
      "metadata": {
        "id": "9ur0CQW0XRcI"
      },
      "source": [
        "# 1. Function to get info from one product\n",
        "\n",
        ">**NOTE:** Sometimes, the web element returned by the driver can be faulty due to the way the website is set up. This can lead to a situation where calling `.text` from that web element returns an empty string, even though there are visible texts inside the element when checked manually using Inspect. When this happens, you can use `.get_attribute('innerHTML')` instead of `.text`."
      ]
    },
    {
      "cell_type": "code",
      "source": [
        "# product_class = DRIVER.find_element(By.CLASS_NAME, 'product-item')\n",
        "# print(product_class.get_attribute('outerHTML'))"
      ],
      "metadata": {
        "id": "TWfueSaea-Ah"
      },
      "execution_count": null,
      "outputs": []
    },
    {
      "cell_type": "code",
      "source": [
        "#list all products in class = product-item\n",
        "# list_products = DRIVER.find_elements(By.CLASS_NAME, 'product-item')\n",
        "# len(list_products)"
      ],
      "metadata": {
        "id": "WcdrWA2gcg1O"
      },
      "execution_count": null,
      "outputs": []
    },
    {
      "cell_type": "code",
      "source": [
        "#find product name\n",
        "# product_name = product_class.find_element(By.CLASS_NAME, 'name')\n",
        "# product_name.text"
      ],
      "metadata": {
        "id": "Uj74IRS7dBaB"
      },
      "execution_count": null,
      "outputs": []
    },
    {
      "cell_type": "code",
      "source": [
        "#find product price\n",
        "# product_price = product_class.find_element(By.CLASS_NAME, 'price-discount__price')\n",
        "# print(product_price.text)"
      ],
      "metadata": {
        "id": "rCz4FAePejlY"
      },
      "execution_count": null,
      "outputs": []
    },
    {
      "cell_type": "code",
      "source": [
        "#find url of the product image\n",
        "# product_image = product_class.find_element(By.CLASS_NAME, 'webpimg-container')\n",
        "# image_url = product_image.find_element(By.TAG_NAME, 'img').get_attribute('src')\n",
        "# print(product_image.get_attribute('outerHTML'))\n",
        "# print(image_url)"
      ],
      "metadata": {
        "id": "m57fg4J6fVOV"
      },
      "execution_count": null,
      "outputs": []
    },
    {
      "cell_type": "code",
      "source": [
        "#find url of product\n",
        "# product_url = product_class.get_attribute('href')\n",
        "# print(product_url)"
      ],
      "metadata": {
        "id": "DKcO0iajfVJF"
      },
      "execution_count": null,
      "outputs": []
    },
    {
      "cell_type": "code",
      "source": [
        "# print(get_product_info_single(product_class))"
      ],
      "metadata": {
        "id": "v2YDbJIdtyot"
      },
      "execution_count": null,
      "outputs": []
    },
    {
      "cell_type": "code",
      "metadata": {
        "id": "a3lx4DNUXQhN"
      },
      "source": [
        "# Function to extract product info from the product\n",
        "def get_product_info_single(product_item):\n",
        "    info = {'name':'',\n",
        "            'price':'',\n",
        "            'product_url':'',\n",
        "            'image':'',\n",
        "            'freeshipping':'',\n",
        "            'number_of_sale':'',\n",
        "            'badge_under_price':'',\n",
        "            'star':'',\n",
        "            'discount':'',\n",
        "            'paid_by_installments':'',\n",
        "            'freegift':''}\n",
        "    # product_class = product_item.find_element(By.CLASS_NAME, 'product-item')\n",
        "    # name get name through find_element_by_class_name\n",
        "    try:\n",
        "        name_class = product_item.find_element(By.CLASS_NAME, 'name')\n",
        "        info['name'] = name_class.find_element(By.TAG_NAME, 'span').get_attribute('innerHTML') #YOUR CODE HERE\n",
        "    except NoSuchElementException:\n",
        "        pass\n",
        "\n",
        "    # get price find_element_by_class_name\n",
        "    try:\n",
        "        info['price'] = product_item.find_element(By.CLASS_NAME, 'price-discount__price').get_attribute('innerHTML').strip('₫') #YOUR CODE HERE\n",
        "    except NoSuchElementException:\n",
        "        info['price'] = -1\n",
        "    \n",
        "    # get link from .get_attribute()\n",
        "    try:\n",
        "        product_link  = product_item.get_attribute('href')#YOUR CODE HERE \n",
        "        info['product_url'] = product_link #YOUR CODE HERE CLEAN LINK WITH STRING MANUPULATION\n",
        "    except NoSuchElementException:\n",
        "        pass\n",
        "\n",
        "    # get thumbnail by class_name and Tag name and get_attribute()\n",
        "    try:\n",
        "        thumbnail =  product_item.find_element(By.CLASS_NAME, 'webpimg-container')#YOUR CODE HERE\n",
        "        info['image'] = thumbnail.find_element(By.TAG_NAME, 'img').get_attribute('src')#YOUR CODE HERE\n",
        "    except NoSuchElementException:\n",
        "        pass\n",
        "    \n",
        "    #get free shipping badge if it have it\n",
        "    try:\n",
        "        thumbnail_class = product_item.find_element(By.CLASS_NAME, 'thumbnail')\n",
        "        # freeship_badge = thumbnail_class.find_element(By.TAG_NAME, 'img')\n",
        "        if(thumbnail_class.find_element(By.TAG_NAME, 'img')):\n",
        "          info['freeshipping'] = 'YES' #freeship_badge.get_attribute('src')\n",
        "        else:\n",
        "          info['freeshipping'] = 'NO'   \n",
        "    except NoSuchElementException:\n",
        "        info['freeshipping'] = 'NO'\n",
        "        pass\n",
        "    \n",
        "    #number of sale\n",
        "    try:\n",
        "        number_of_sale = product_item.find_element(By.CLASS_NAME, 'styles__StyledQtySold-sc-732h27-2').get_attribute('innerHTML')\n",
        "        nos = number_of_sale.strip('Đã bán ')\n",
        "        info['number_of_sale'] = nos\n",
        "    except NoSuchElementException:\n",
        "        pass\n",
        "\n",
        "    #\"rẻ hơn hoàn tiền\" badge\n",
        "    try:\n",
        "        badge_under_class = product_item.find_element(By.CLASS_NAME, 'badge-under-price')\n",
        "        badge_under_price = badge_under_class.find_element(By.TAG_NAME, 'img').get_attribute('src')\n",
        "        if badge_under_price:\n",
        "          info['badge_under_price'] = 'YES' #badge_under_price\n",
        "        else:\n",
        "          info['badge_under_price'] = 'NO'\n",
        "    except NoSuchElementException:\n",
        "        info['badge_under_price'] = 'NO'\n",
        "        pass\n",
        "    \n",
        "    #percentage of stars\n",
        "    try:\n",
        "        star = product_item.find_element(By.CLASS_NAME, 'average').get_attribute('style')\n",
        "        l_perc_star = star.lstrip('width: ')\n",
        "        perc_star = int(l_perc_star.strip('%;'))\n",
        "        perc_star = (perc_star * 5) / 100\n",
        "        info['star'] = perc_star\n",
        "    except NoSuchElementException:\n",
        "      pass\n",
        "    \n",
        "    #discount price\n",
        "    try:\n",
        "        discount_class = product_item.find_element(By.CLASS_NAME, 'price-discount__discount').get_attribute('innerHTML')\n",
        "        #r_discount = discount_class.rstrip('<!-- -->')\n",
        "        discount = discount_class.lstrip('-<!-- -->')\n",
        "        discount = discount.rstrip('<!-- -->%')\n",
        "        discount = discount.strip('-')\n",
        "        info['discount'] = discount\n",
        "    except NoSuchElementException:\n",
        "      pass\n",
        "    \n",
        "    #paid by installment\n",
        "    try:\n",
        "        badge_benefits = product_item.find_element(By.CLASS_NAME, 'badge-benefits')\n",
        "        string_span_tag = badge_benefits.find_element(By.TAG_NAME, 'span').get_attribute('innerHTML')\n",
        "        if (string_span_tag == 'Trả góp'):\n",
        "          info['paid_by_installments'] = 'YES' #string_span_tag\n",
        "        else:\n",
        "          info['paid_by_installments'] = 'NO'\n",
        "    except NoSuchElementException:\n",
        "        info['paid_by_installments'] = 'NO'\n",
        "        pass\n",
        "    \n",
        "    #freegift\n",
        "    try: \n",
        "        free_gift = product_item.find_element(By.CLASS_NAME,'freegift-list')\n",
        "        info['freegift'] = 'YES'\n",
        "    except NoSuchElementException:\n",
        "        info['freegift'] = 'NO'\n",
        "        pass\n",
        "    return info\n"
      ],
      "execution_count": null,
      "outputs": []
    },
    {
      "cell_type": "markdown",
      "metadata": {
        "id": "TNQYhIUqXZZU"
      },
      "source": [
        "# 2. Function to scrape info of all products from a Page URL\n",
        "\n",
        "To make your own life easier, you should use the function for a single product inside this one."
      ]
    },
    {
      "cell_type": "code",
      "metadata": {
        "id": "-00un6opKyNH"
      },
      "source": [
        "# Function to scrape all products from a page\n",
        "def get_product_info_from_page(page_url):\n",
        "    \"\"\" Extract info from all products of a specfic page_url on Tiki website\n",
        "        Args:\n",
        "            page_url: (string) url of the page to scrape\n",
        "        Returns:\n",
        "            data: list of dictionary of products info. If no products shown, return empty list.\n",
        "    \"\"\"\n",
        "    global DRIVER\n",
        "\n",
        "    data = []           # Store the info dictionary of each product in this list\n",
        "    DRIVER.get(page_url) # Use the driver to get info from the product page\n",
        "    time.sleep(5)        # MUST have the sleep function\n",
        "\n",
        "    products_all = DRIVER.find_elements(By.CLASS_NAME, 'product-item')#YOUR CODE HERE\n",
        "    print(f'Found {len(products_all)} products')\n",
        "    # print(products_all[10].text)\n",
        "    for product in products_all:\n",
        "        # Look through the product and get the data\n",
        "        # YOUR CODE HERE\n",
        "        detail = {}\n",
        "        detail = get_product_info_single(product)\n",
        "        data.append(detail)\n",
        "    return data"
      ],
      "execution_count": null,
      "outputs": []
    },
    {
      "cell_type": "code",
      "source": [
        "# DRIVER.find_element(By.CLASS_NAME,'product-item').find_element(By.CLASS_NAME,'style__StyledNotFoundProductView-sc')"
      ],
      "metadata": {
        "id": "4WPftbKe9IVt"
      },
      "execution_count": null,
      "outputs": []
    },
    {
      "cell_type": "code",
      "source": [
        "# Function to scrape all products from two pages\n",
        "def get_product_info_from_n_page(page_url, page_number): #page_number: the number of page you want to get. Example: you wan to get product from 3 page then (page_url, 3)\n",
        "    \"\"\" Extract info from all products of a specfic page_url on Tiki website\n",
        "        Args:\n",
        "            page_url: (string) url of the page to scrape\n",
        "        Returns:\n",
        "            data: list of dictionary of products info. If no products shown, return empty list.\n",
        "    \"\"\"\n",
        "    global DRIVER\n",
        "\n",
        "    data = []           # Store the info dictionary of each product in this list\n",
        "    for i in range(1,page_number+1):\n",
        "      cur_url = page_url + str(i)\n",
        "      print(cur_url)\n",
        "      DRIVER.get(cur_url) # Use the driver to get info from the product page\n",
        "      time.sleep(5)        # MUST have the sleep function\n",
        "      products_all = DRIVER.find_elements(By.CLASS_NAME, 'product-item')#YOUR CODE HERE\n",
        "      print(f'Found {len(products_all)} products')\n",
        "      for product in products_all:\n",
        "        # Look through the product and get the data\n",
        "        # YOUR CODE HERE\n",
        "        detail = {}\n",
        "        detail = get_product_info_single(product)\n",
        "        data.append(detail)\n",
        "    return data"
      ],
      "metadata": {
        "id": "SH1fDDF1A8ut"
      },
      "execution_count": null,
      "outputs": []
    },
    {
      "cell_type": "markdown",
      "source": [
        "# 3. Start scraping\n",
        "\n",
        "Try to scrape at least 2 pages of your chosen main category."
      ],
      "metadata": {
        "id": "Vwex_TYFa_YW"
      }
    },
    {
      "cell_type": "code",
      "source": [
        "# start_driver(force_restart=True)\n",
        "# url = MAIN_CATEGORIES[3]['URL']\n",
        "# DRIVER.get(url)\n",
        "# test = DRIVER.find_element(By.CLASS_NAME, 'Pagination__Root-sc-cyke21-0')\n",
        "# print(test.get_attribute('innerHTML'))\n",
        "# close_driver()"
      ],
      "metadata": {
        "id": "JIMfxSQIeNWZ"
      },
      "execution_count": null,
      "outputs": []
    },
    {
      "cell_type": "code",
      "source": [
        "from random import randint"
      ],
      "metadata": {
        "id": "Js4DAWrNHkub"
      },
      "execution_count": null,
      "outputs": []
    },
    {
      "cell_type": "code",
      "metadata": {
        "id": "M4VOxvj7K6IY",
        "colab": {
          "base_uri": "https://localhost:8080/"
        },
        "outputId": "e051a9fa-2d0e-4cb4-e2a4-331b21dcb7df"
      },
      "source": [
        "main_cat  = MAIN_CATEGORIES[3] # Pick any category you like by changing the index\n",
        "\n",
        "start_driver(force_restart=True)\n",
        "print('Scraping', main_cat['Name'])\n",
        "print('Link:', main_cat['URL'])\n",
        "\n",
        "prod_data = [] # STORE YOUR PRODUCT INFO DICTIONARIES IN HERE\n",
        "\n",
        "##################################\n",
        "### YOUR CODE HERE TO GET DATA ###\n",
        "##################################\n",
        "n = randint(1,10) #get a random integer to get number of product page\n",
        "print(n)\n",
        "prod_data = get_product_info_from_n_page(main_cat['URL'],n)\n",
        "close_driver() # Close driver when we're done"
      ],
      "execution_count": null,
      "outputs": [
        {
          "output_type": "stream",
          "name": "stdout",
          "text": [
            "Scraping Laptop - Thiết bị IT\n",
            "Link: https://tiki.vn/laptop-may-vi-tinh-linh-kien/c1846?page=0\n",
            "3\n",
            "https://tiki.vn/laptop-may-vi-tinh-linh-kien/c1846?page=01\n",
            "Found 72 products\n",
            "https://tiki.vn/laptop-may-vi-tinh-linh-kien/c1846?page=02\n",
            "Found 72 products\n",
            "https://tiki.vn/laptop-may-vi-tinh-linh-kien/c1846?page=03\n",
            "Found 72 products\n"
          ]
        }
      ]
    },
    {
      "cell_type": "code",
      "source": [
        "print(len(prod_data))"
      ],
      "metadata": {
        "colab": {
          "base_uri": "https://localhost:8080/"
        },
        "id": "ywNZoljjqUl3",
        "outputId": "310abcc7-a84e-4f2f-aa33-f9c5dc46c8d2"
      },
      "execution_count": null,
      "outputs": [
        {
          "output_type": "stream",
          "name": "stdout",
          "text": [
            "216\n"
          ]
        }
      ]
    },
    {
      "cell_type": "code",
      "source": [
        "prod_data[:5]"
      ],
      "metadata": {
        "id": "v3pNj5ExrzbM"
      },
      "execution_count": null,
      "outputs": []
    },
    {
      "cell_type": "markdown",
      "source": [
        "# 4. Run cell below to save your scraped data into a .csv file\n",
        "If you've scraped correctly, then the cell should run without error and the information in the table should look reasonable."
      ],
      "metadata": {
        "id": "iF9Kjs2eZXun"
      }
    },
    {
      "cell_type": "code",
      "metadata": {
        "id": "2jEyRaOEh_Ek",
        "colab": {
          "base_uri": "https://localhost:8080/",
          "height": 1000
        },
        "outputId": "4c28edc6-3b4d-4d10-ee6b-924377c75487"
      },
      "source": [
        "# SAVE DATA TO CSV FILE\n",
        "df = pd.DataFrame(data=prod_data, columns=prod_data[0].keys())\n",
        "df.to_csv('tiki_products.csv')\n",
        "\n",
        "n_products_to_view = 20 # Change this as you like to check more products\n",
        "df.head(n_products_to_view)"
      ],
      "execution_count": null,
      "outputs": [
        {
          "output_type": "execute_result",
          "data": {
            "text/html": [
              "<div>\n",
              "<style scoped>\n",
              "    .dataframe tbody tr th:only-of-type {\n",
              "        vertical-align: middle;\n",
              "    }\n",
              "\n",
              "    .dataframe tbody tr th {\n",
              "        vertical-align: top;\n",
              "    }\n",
              "\n",
              "    .dataframe thead th {\n",
              "        text-align: right;\n",
              "    }\n",
              "</style>\n",
              "<table border=\"1\" class=\"dataframe\">\n",
              "  <thead>\n",
              "    <tr style=\"text-align: right;\">\n",
              "      <th></th>\n",
              "      <th>name</th>\n",
              "      <th>price</th>\n",
              "      <th>product_url</th>\n",
              "      <th>image</th>\n",
              "      <th>freeshipping</th>\n",
              "      <th>number_of_sale</th>\n",
              "      <th>badge_under_price</th>\n",
              "      <th>star</th>\n",
              "      <th>discount</th>\n",
              "      <th>paid_by_installments</th>\n",
              "      <th>freegift</th>\n",
              "    </tr>\n",
              "  </thead>\n",
              "  <tbody>\n",
              "    <tr>\n",
              "      <th>0</th>\n",
              "      <td>Bộ nguồn cấp điện liên tục UPS PROLiNK 850VA (...</td>\n",
              "      <td>1.122.000</td>\n",
              "      <td>https://tka.tiki.vn/pixel/pixel?data=djAwMR4db...</td>\n",
              "      <td>https://salt.tikicdn.com/cache/200x200/ts/prod...</td>\n",
              "      <td>YES</td>\n",
              "      <td>36</td>\n",
              "      <td>YES</td>\n",
              "      <td>4.6</td>\n",
              "      <td>17</td>\n",
              "      <td>NO</td>\n",
              "      <td>NO</td>\n",
              "    </tr>\n",
              "    <tr>\n",
              "      <th>1</th>\n",
              "      <td>Bộ Phát Wifi TP-Link Archer C54 Băng Tần Kép C...</td>\n",
              "      <td>419.000</td>\n",
              "      <td>https://tiki.vn/bo-phat-wifi-tp-link-archer-c5...</td>\n",
              "      <td>https://salt.tikicdn.com/cache/200x200/ts/prod...</td>\n",
              "      <td>YES</td>\n",
              "      <td>1000+</td>\n",
              "      <td>YES</td>\n",
              "      <td>4.7</td>\n",
              "      <td>53</td>\n",
              "      <td>NO</td>\n",
              "      <td>NO</td>\n",
              "    </tr>\n",
              "    <tr>\n",
              "      <th>2</th>\n",
              "      <td>Phần Mềm Diệt Virus BKAV Profressional 12 Thán...</td>\n",
              "      <td>189.000</td>\n",
              "      <td>https://tiki.vn/phan-mem-diet-virus-bkav-profr...</td>\n",
              "      <td>https://salt.tikicdn.com/cache/200x200/ts/prod...</td>\n",
              "      <td>YES</td>\n",
              "      <td>1000+</td>\n",
              "      <td>YES</td>\n",
              "      <td>4.8</td>\n",
              "      <td>2</td>\n",
              "      <td>NO</td>\n",
              "      <td>NO</td>\n",
              "    </tr>\n",
              "    <tr>\n",
              "      <th>3</th>\n",
              "      <td>Bộ Mở Rộng Sóng Wifi TP-Link TL-WA850RE Chuẩn ...</td>\n",
              "      <td>248.000</td>\n",
              "      <td>https://tiki.vn/bo-mo-rong-song-wifi-tp-link-t...</td>\n",
              "      <td>https://salt.tikicdn.com/cache/200x200/ts/prod...</td>\n",
              "      <td>YES</td>\n",
              "      <td>149</td>\n",
              "      <td>YES</td>\n",
              "      <td>4.5</td>\n",
              "      <td></td>\n",
              "      <td>NO</td>\n",
              "      <td>NO</td>\n",
              "    </tr>\n",
              "    <tr>\n",
              "      <th>4</th>\n",
              "      <td>Bộ chia mạng switch 5 cổng RJ45 10/100/1000Mbq...</td>\n",
              "      <td>299.000</td>\n",
              "      <td>https://tka.tiki.vn/pixel/pixel?data=djAwMQSZ7...</td>\n",
              "      <td>https://salt.tikicdn.com/cache/200x200/ts/prod...</td>\n",
              "      <td>YES</td>\n",
              "      <td>20</td>\n",
              "      <td>NO</td>\n",
              "      <td>5</td>\n",
              "      <td></td>\n",
              "      <td>NO</td>\n",
              "      <td>NO</td>\n",
              "    </tr>\n",
              "    <tr>\n",
              "      <th>5</th>\n",
              "      <td>Ổ Cứng SSD Kingston A400 (240GB) - Hàng Chính ...</td>\n",
              "      <td>779.000</td>\n",
              "      <td>https://tiki.vn/o-cung-ssd-kingston-a400-240gb...</td>\n",
              "      <td>https://salt.tikicdn.com/cache/200x200/ts/prod...</td>\n",
              "      <td>YES</td>\n",
              "      <td>1000+</td>\n",
              "      <td>YES</td>\n",
              "      <td>4.6</td>\n",
              "      <td>22</td>\n",
              "      <td>NO</td>\n",
              "      <td>NO</td>\n",
              "    </tr>\n",
              "    <tr>\n",
              "      <th>6</th>\n",
              "      <td>Bộ Kích Sóng Wifi Repeater Mercusys MW300RE 30...</td>\n",
              "      <td>195.000</td>\n",
              "      <td>https://tiki.vn/bo-kich-song-wifi-repeater-mer...</td>\n",
              "      <td>https://salt.tikicdn.com/cache/200x200/ts/prod...</td>\n",
              "      <td>YES</td>\n",
              "      <td>958</td>\n",
              "      <td>NO</td>\n",
              "      <td>4.5</td>\n",
              "      <td>35</td>\n",
              "      <td>NO</td>\n",
              "      <td>NO</td>\n",
              "    </tr>\n",
              "    <tr>\n",
              "      <th>7</th>\n",
              "      <td>Bộ Chuyển Đổi USB Wifi TP-Link Archer T2U Plus...</td>\n",
              "      <td>279.000</td>\n",
              "      <td>https://tiki.vn/bo-chuyen-doi-usb-wifi-tp-link...</td>\n",
              "      <td>https://salt.tikicdn.com/cache/200x200/ts/prod...</td>\n",
              "      <td>YES</td>\n",
              "      <td>7</td>\n",
              "      <td>NO</td>\n",
              "      <td>4.8</td>\n",
              "      <td></td>\n",
              "      <td>NO</td>\n",
              "      <td>NO</td>\n",
              "    </tr>\n",
              "    <tr>\n",
              "      <th>8</th>\n",
              "      <td>Bộ phát Wifi di động Tenda 4G LTE 4G185 - Hàng...</td>\n",
              "      <td>1.055.000</td>\n",
              "      <td>https://tka.tiki.vn/pixel/pixel?data=djAwMTjSZ...</td>\n",
              "      <td>https://salt.tikicdn.com/cache/200x200/ts/prod...</td>\n",
              "      <td>YES</td>\n",
              "      <td>16</td>\n",
              "      <td>NO</td>\n",
              "      <td>5</td>\n",
              "      <td>30</td>\n",
              "      <td>NO</td>\n",
              "      <td>YES</td>\n",
              "    </tr>\n",
              "    <tr>\n",
              "      <th>9</th>\n",
              "      <td>Bộ Chuyển Đổi USB Wifi TP-Link Archer T2U Nano...</td>\n",
              "      <td>239.000</td>\n",
              "      <td>https://tiki.vn/bo-chuyen-doi-usb-wifi-tp-link...</td>\n",
              "      <td>https://salt.tikicdn.com/cache/200x200/ts/prod...</td>\n",
              "      <td>YES</td>\n",
              "      <td>1000+</td>\n",
              "      <td>NO</td>\n",
              "      <td>4.8</td>\n",
              "      <td>27</td>\n",
              "      <td>NO</td>\n",
              "      <td>NO</td>\n",
              "    </tr>\n",
              "    <tr>\n",
              "      <th>10</th>\n",
              "      <td>Bộ Kích Sóng Wifi Xiaomi Repeater Pro - Hàng N...</td>\n",
              "      <td>240.000</td>\n",
              "      <td>https://tiki.vn/bo-kich-song-wifi-xiaomi-repea...</td>\n",
              "      <td>https://salt.tikicdn.com/cache/200x200/ts/prod...</td>\n",
              "      <td>YES</td>\n",
              "      <td>945</td>\n",
              "      <td>YES</td>\n",
              "      <td>4.6</td>\n",
              "      <td>17</td>\n",
              "      <td>NO</td>\n",
              "      <td>NO</td>\n",
              "    </tr>\n",
              "    <tr>\n",
              "      <th>11</th>\n",
              "      <td>Phần mềm Microsoft 365 Personal English APAC E...</td>\n",
              "      <td>1.290.000</td>\n",
              "      <td>https://tiki.vn/phan-mem-microsoft-365-persona...</td>\n",
              "      <td>https://salt.tikicdn.com/cache/200x200/ts/prod...</td>\n",
              "      <td>YES</td>\n",
              "      <td>1000+</td>\n",
              "      <td>NO</td>\n",
              "      <td>5</td>\n",
              "      <td></td>\n",
              "      <td>NO</td>\n",
              "      <td>NO</td>\n",
              "    </tr>\n",
              "    <tr>\n",
              "      <th>12</th>\n",
              "      <td>Ổ cứng gắn trong HDD Western Digital BLUE 6TB ...</td>\n",
              "      <td>3.685.000</td>\n",
              "      <td>https://tka.tiki.vn/pixel/pixel?data=djAwMd8YF...</td>\n",
              "      <td>https://salt.tikicdn.com/cache/200x200/ts/prod...</td>\n",
              "      <td>YES</td>\n",
              "      <td>200</td>\n",
              "      <td>YES</td>\n",
              "      <td>4.3</td>\n",
              "      <td>10</td>\n",
              "      <td>YES</td>\n",
              "      <td>NO</td>\n",
              "    </tr>\n",
              "    <tr>\n",
              "      <th>13</th>\n",
              "      <td>Màn hình máy tính Dell Ultrasharp U2422H 23.8 ...</td>\n",
              "      <td>6.700.000</td>\n",
              "      <td>https://tiki.vn/man-hinh-may-tinh-dell-ultrash...</td>\n",
              "      <td>https://salt.tikicdn.com/cache/200x200/ts/prod...</td>\n",
              "      <td>YES</td>\n",
              "      <td>417</td>\n",
              "      <td>NO</td>\n",
              "      <td>4.5</td>\n",
              "      <td></td>\n",
              "      <td>YES</td>\n",
              "      <td>NO</td>\n",
              "    </tr>\n",
              "    <tr>\n",
              "      <th>14</th>\n",
              "      <td>Màn Hình Cong Samsung LC27F397FHEXXV 27inch Fu...</td>\n",
              "      <td>4.790.000</td>\n",
              "      <td>https://tiki.vn/man-hinh-cong-samsung-lc27f397...</td>\n",
              "      <td>https://salt.tikicdn.com/cache/200x200/ts/prod...</td>\n",
              "      <td>YES</td>\n",
              "      <td>1000+</td>\n",
              "      <td>NO</td>\n",
              "      <td>4.7</td>\n",
              "      <td>4</td>\n",
              "      <td>YES</td>\n",
              "      <td>NO</td>\n",
              "    </tr>\n",
              "    <tr>\n",
              "      <th>15</th>\n",
              "      <td>Bộ Phát Wifi TP-Link Archer AX10 Wifi 6 1500Mb...</td>\n",
              "      <td>1.399.000</td>\n",
              "      <td>https://tiki.vn/bo-phat-wifi-tp-link-archer-ax...</td>\n",
              "      <td>https://salt.tikicdn.com/cache/200x200/ts/prod...</td>\n",
              "      <td>YES</td>\n",
              "      <td>430</td>\n",
              "      <td>NO</td>\n",
              "      <td>4.8</td>\n",
              "      <td>58</td>\n",
              "      <td>NO</td>\n",
              "      <td>NO</td>\n",
              "    </tr>\n",
              "    <tr>\n",
              "      <th>16</th>\n",
              "      <td>Ổ Cứng HDD WD Red Plus 4TB 3.5 inch SATA iii -...</td>\n",
              "      <td>2.646.000</td>\n",
              "      <td>https://tka.tiki.vn/pixel/pixel?data=djAwMc1go...</td>\n",
              "      <td>https://salt.tikicdn.com/cache/200x200/ts/prod...</td>\n",
              "      <td>YES</td>\n",
              "      <td>9</td>\n",
              "      <td>NO</td>\n",
              "      <td>5</td>\n",
              "      <td>2</td>\n",
              "      <td>NO</td>\n",
              "      <td>NO</td>\n",
              "    </tr>\n",
              "    <tr>\n",
              "      <th>17</th>\n",
              "      <td>Quạt Tản Nhiệt Điện Thoại MEMO DL05 Siêu Lạnh,...</td>\n",
              "      <td>260.000</td>\n",
              "      <td>https://tiki.vn/quat-tan-nhiet-dien-thoai-memo...</td>\n",
              "      <td>https://salt.tikicdn.com/cache/200x200/ts/prod...</td>\n",
              "      <td>YES</td>\n",
              "      <td>244</td>\n",
              "      <td>NO</td>\n",
              "      <td>4.8</td>\n",
              "      <td></td>\n",
              "      <td>NO</td>\n",
              "      <td>NO</td>\n",
              "    </tr>\n",
              "    <tr>\n",
              "      <th>18</th>\n",
              "      <td>Máy in HP Neverstop Laser 1000w  (In/Wifi/Trắn...</td>\n",
              "      <td>2.990.000</td>\n",
              "      <td>https://tiki.vn/may-in-laser-trang-den-hp-neve...</td>\n",
              "      <td>https://salt.tikicdn.com/cache/200x200/ts/prod...</td>\n",
              "      <td>YES</td>\n",
              "      <td>708</td>\n",
              "      <td>NO</td>\n",
              "      <td>4.7</td>\n",
              "      <td></td>\n",
              "      <td>NO</td>\n",
              "      <td>NO</td>\n",
              "    </tr>\n",
              "    <tr>\n",
              "      <th>19</th>\n",
              "      <td>Máy In Laser Đơn Năng Canon LBP 2900 - Hàng ch...</td>\n",
              "      <td>4.590.000</td>\n",
              "      <td>https://tiki.vn/may-in-laser-don-nang-canon-lb...</td>\n",
              "      <td>https://salt.tikicdn.com/cache/200x200/ts/prod...</td>\n",
              "      <td>YES</td>\n",
              "      <td>1000+</td>\n",
              "      <td>NO</td>\n",
              "      <td>4.6</td>\n",
              "      <td></td>\n",
              "      <td>YES</td>\n",
              "      <td>NO</td>\n",
              "    </tr>\n",
              "  </tbody>\n",
              "</table>\n",
              "</div>"
            ],
            "text/plain": [
              "                                                 name  ... freegift\n",
              "0   Bộ nguồn cấp điện liên tục UPS PROLiNK 850VA (...  ...       NO\n",
              "1   Bộ Phát Wifi TP-Link Archer C54 Băng Tần Kép C...  ...       NO\n",
              "2   Phần Mềm Diệt Virus BKAV Profressional 12 Thán...  ...       NO\n",
              "3   Bộ Mở Rộng Sóng Wifi TP-Link TL-WA850RE Chuẩn ...  ...       NO\n",
              "4   Bộ chia mạng switch 5 cổng RJ45 10/100/1000Mbq...  ...       NO\n",
              "5   Ổ Cứng SSD Kingston A400 (240GB) - Hàng Chính ...  ...       NO\n",
              "6   Bộ Kích Sóng Wifi Repeater Mercusys MW300RE 30...  ...       NO\n",
              "7   Bộ Chuyển Đổi USB Wifi TP-Link Archer T2U Plus...  ...       NO\n",
              "8   Bộ phát Wifi di động Tenda 4G LTE 4G185 - Hàng...  ...      YES\n",
              "9   Bộ Chuyển Đổi USB Wifi TP-Link Archer T2U Nano...  ...       NO\n",
              "10  Bộ Kích Sóng Wifi Xiaomi Repeater Pro - Hàng N...  ...       NO\n",
              "11  Phần mềm Microsoft 365 Personal English APAC E...  ...       NO\n",
              "12  Ổ cứng gắn trong HDD Western Digital BLUE 6TB ...  ...       NO\n",
              "13  Màn hình máy tính Dell Ultrasharp U2422H 23.8 ...  ...       NO\n",
              "14  Màn Hình Cong Samsung LC27F397FHEXXV 27inch Fu...  ...       NO\n",
              "15  Bộ Phát Wifi TP-Link Archer AX10 Wifi 6 1500Mb...  ...       NO\n",
              "16  Ổ Cứng HDD WD Red Plus 4TB 3.5 inch SATA iii -...  ...       NO\n",
              "17  Quạt Tản Nhiệt Điện Thoại MEMO DL05 Siêu Lạnh,...  ...       NO\n",
              "18  Máy in HP Neverstop Laser 1000w  (In/Wifi/Trắn...  ...       NO\n",
              "19  Máy In Laser Đơn Năng Canon LBP 2900 - Hàng ch...  ...       NO\n",
              "\n",
              "[20 rows x 11 columns]"
            ]
          },
          "metadata": {},
          "execution_count": 105
        }
      ]
    },
    {
      "cell_type": "code",
      "source": [
        "prod_data[111]"
      ],
      "metadata": {
        "colab": {
          "base_uri": "https://localhost:8080/"
        },
        "id": "BgMt5qCCAWbK",
        "outputId": "379b391d-e22c-440b-dce5-2dfdd4c4cad5"
      },
      "execution_count": null,
      "outputs": [
        {
          "output_type": "execute_result",
          "data": {
            "text/plain": [
              "{'badge_under_price': 'YES',\n",
              " 'discount': '',\n",
              " 'freegift': 'NO',\n",
              " 'freeshipping': 'YES',\n",
              " 'image': 'https://salt.tikicdn.com/cache/200x200/ts/product/c4/28/b7/97574fd96b2578c7c14ca5c001f32f95.jpg',\n",
              " 'name': 'Màn Hình Dell S2721HN 27inch FHD (1920x1080) 4ms 75Hx IPS 300nits/HDMI+Audio/AMD FreeSync - Hàng Chính Hãng',\n",
              " 'number_of_sale': '87',\n",
              " 'paid_by_installments': 'YES',\n",
              " 'price': '6.290.000 ',\n",
              " 'product_url': 'https://tiki.vn/man-hinh-dell-s2721hn-27inch-fhd-1920x1080-4ms-75hx-ips-300nits-hdmi-audio-amd-freesync-hang-chinh-hang-p78496225.html?itm_campaign=tiki-reco_UNK_DT_UNK_UNK_tiki-listing_UNK_p-category-mpid-listing-v1_202112100600_MD_PID.78496226&itm_medium=CPC&itm_source=tiki-reco&spid=78496226',\n",
              " 'star': 4.7}"
            ]
          },
          "metadata": {},
          "execution_count": 102
        }
      ]
    },
    {
      "cell_type": "markdown",
      "metadata": {
        "id": "OGRdpV6AYxHf"
      },
      "source": [
        "# OPTIONAL: Extra information\n",
        "\n",
        "\n",
        "If you've managed to successfully completed all of the above, you can look to get extra information for each product.\n",
        "\n",
        "* Does it has FreeShip? <img src=\"https://salt.tikicdn.com/ts/upload/dc/0d/49/3251737db2de83b74eba8a9ad6d03338.png\">\n",
        "* Number of reviews?\n",
        "* Number of sale?\n",
        "* How many stars or percentage of stars?\n",
        "* Does it got \"badge under price\" (Rẻ hơn hoàn tiền)? <img src=\"https://salt.tikicdn.com/ts/upload/51/ac/cc/528e80fe3f464f910174e2fdf8887b6f.png\">\n",
        "* Discount percentage?\n",
        "* Does it got \"shocking price\" badge? <img src=\"https://salt.tikicdn.com/ts/upload/75/34/d2/4a9a0958a782da8930cdad8f08afff37.png\">\n",
        "* Does it allowed to be paid by installments? <img src=\"https://salt.tikicdn.com/ts/upload/ba/4e/6e/26e9f2487e9f49b7dcf4043960e687dd.png\">\n",
        "* Does it comes with free gifts? <img src=\"https://salt.tikicdn.com/ts/upload/47/35/8c/446f61d046eba9a305d3f39dc0834c4a.png\">\n",
        "    \n"
      ]
    }
  ]
}